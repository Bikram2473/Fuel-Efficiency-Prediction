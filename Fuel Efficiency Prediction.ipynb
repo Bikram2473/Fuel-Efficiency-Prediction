{
 "cells": [
  {
   "cell_type": "markdown",
   "id": "c75a8141",
   "metadata": {},
   "source": [
    "# Data Preprocessing"
   ]
  },
  {
   "cell_type": "code",
   "execution_count": 1,
   "id": "02b5fd91",
   "metadata": {},
   "outputs": [
    {
     "name": "stdout",
     "output_type": "stream",
     "text": [
      "WARNING:tensorflow:From C:\\Users\\KIIT\\AppData\\Roaming\\Python\\Python310\\site-packages\\keras\\src\\losses.py:2976: The name tf.losses.sparse_softmax_cross_entropy is deprecated. Please use tf.compat.v1.losses.sparse_softmax_cross_entropy instead.\n",
      "\n"
     ]
    }
   ],
   "source": [
    "import numpy as np \n",
    "import pandas as pd \n",
    "import matplotlib.pyplot as plt \n",
    "import seaborn as sb \n",
    "\n",
    "import tensorflow as tf \n",
    "from tensorflow import keras \n",
    "from keras import layers \n",
    "\n",
    "import warnings \n",
    "warnings.filterwarnings('ignore')"
   ]
  },
  {
   "cell_type": "code",
   "execution_count": 2,
   "id": "ca5d09a2",
   "metadata": {},
   "outputs": [
    {
     "data": {
      "text/html": [
       "<div>\n",
       "<style scoped>\n",
       "    .dataframe tbody tr th:only-of-type {\n",
       "        vertical-align: middle;\n",
       "    }\n",
       "\n",
       "    .dataframe tbody tr th {\n",
       "        vertical-align: top;\n",
       "    }\n",
       "\n",
       "    .dataframe thead th {\n",
       "        text-align: right;\n",
       "    }\n",
       "</style>\n",
       "<table border=\"1\" class=\"dataframe\">\n",
       "  <thead>\n",
       "    <tr style=\"text-align: right;\">\n",
       "      <th></th>\n",
       "      <th>mpg</th>\n",
       "      <th>cylinders</th>\n",
       "      <th>displacement</th>\n",
       "      <th>horsepower</th>\n",
       "      <th>weight</th>\n",
       "      <th>acceleration</th>\n",
       "      <th>model year</th>\n",
       "      <th>origin</th>\n",
       "      <th>car name</th>\n",
       "    </tr>\n",
       "  </thead>\n",
       "  <tbody>\n",
       "    <tr>\n",
       "      <th>0</th>\n",
       "      <td>18.0</td>\n",
       "      <td>8</td>\n",
       "      <td>307.0</td>\n",
       "      <td>130</td>\n",
       "      <td>3504</td>\n",
       "      <td>12.0</td>\n",
       "      <td>70</td>\n",
       "      <td>1</td>\n",
       "      <td>chevrolet chevelle malibu</td>\n",
       "    </tr>\n",
       "    <tr>\n",
       "      <th>1</th>\n",
       "      <td>15.0</td>\n",
       "      <td>8</td>\n",
       "      <td>350.0</td>\n",
       "      <td>165</td>\n",
       "      <td>3693</td>\n",
       "      <td>11.5</td>\n",
       "      <td>70</td>\n",
       "      <td>1</td>\n",
       "      <td>buick skylark 320</td>\n",
       "    </tr>\n",
       "    <tr>\n",
       "      <th>2</th>\n",
       "      <td>18.0</td>\n",
       "      <td>8</td>\n",
       "      <td>318.0</td>\n",
       "      <td>150</td>\n",
       "      <td>3436</td>\n",
       "      <td>11.0</td>\n",
       "      <td>70</td>\n",
       "      <td>1</td>\n",
       "      <td>plymouth satellite</td>\n",
       "    </tr>\n",
       "    <tr>\n",
       "      <th>3</th>\n",
       "      <td>16.0</td>\n",
       "      <td>8</td>\n",
       "      <td>304.0</td>\n",
       "      <td>150</td>\n",
       "      <td>3433</td>\n",
       "      <td>12.0</td>\n",
       "      <td>70</td>\n",
       "      <td>1</td>\n",
       "      <td>amc rebel sst</td>\n",
       "    </tr>\n",
       "    <tr>\n",
       "      <th>4</th>\n",
       "      <td>17.0</td>\n",
       "      <td>8</td>\n",
       "      <td>302.0</td>\n",
       "      <td>140</td>\n",
       "      <td>3449</td>\n",
       "      <td>10.5</td>\n",
       "      <td>70</td>\n",
       "      <td>1</td>\n",
       "      <td>ford torino</td>\n",
       "    </tr>\n",
       "  </tbody>\n",
       "</table>\n",
       "</div>"
      ],
      "text/plain": [
       "    mpg  cylinders  displacement horsepower  weight  acceleration  model year  \\\n",
       "0  18.0          8         307.0        130    3504          12.0          70   \n",
       "1  15.0          8         350.0        165    3693          11.5          70   \n",
       "2  18.0          8         318.0        150    3436          11.0          70   \n",
       "3  16.0          8         304.0        150    3433          12.0          70   \n",
       "4  17.0          8         302.0        140    3449          10.5          70   \n",
       "\n",
       "   origin                   car name  \n",
       "0       1  chevrolet chevelle malibu  \n",
       "1       1          buick skylark 320  \n",
       "2       1         plymouth satellite  \n",
       "3       1              amc rebel sst  \n",
       "4       1                ford torino  "
      ]
     },
     "execution_count": 2,
     "metadata": {},
     "output_type": "execute_result"
    }
   ],
   "source": [
    "df = pd.read_csv('auto-mpg.csv')\n",
    "df.head()"
   ]
  },
  {
   "cell_type": "code",
   "execution_count": 3,
   "id": "17d86017",
   "metadata": {},
   "outputs": [
    {
     "data": {
      "text/plain": [
       "(398, 9)"
      ]
     },
     "execution_count": 3,
     "metadata": {},
     "output_type": "execute_result"
    }
   ],
   "source": [
    "df.shape"
   ]
  },
  {
   "cell_type": "code",
   "execution_count": 4,
   "id": "b647b711",
   "metadata": {},
   "outputs": [
    {
     "name": "stdout",
     "output_type": "stream",
     "text": [
      "<class 'pandas.core.frame.DataFrame'>\n",
      "RangeIndex: 398 entries, 0 to 397\n",
      "Data columns (total 9 columns):\n",
      " #   Column        Non-Null Count  Dtype  \n",
      "---  ------        --------------  -----  \n",
      " 0   mpg           398 non-null    float64\n",
      " 1   cylinders     398 non-null    int64  \n",
      " 2   displacement  398 non-null    float64\n",
      " 3   horsepower    398 non-null    object \n",
      " 4   weight        398 non-null    int64  \n",
      " 5   acceleration  398 non-null    float64\n",
      " 6   model year    398 non-null    int64  \n",
      " 7   origin        398 non-null    int64  \n",
      " 8   car name      398 non-null    object \n",
      "dtypes: float64(3), int64(4), object(2)\n",
      "memory usage: 28.1+ KB\n"
     ]
    }
   ],
   "source": [
    "df.info()"
   ]
  },
  {
   "cell_type": "code",
   "execution_count": 5,
   "id": "8947a0df",
   "metadata": {},
   "outputs": [
    {
     "data": {
      "text/html": [
       "<div>\n",
       "<style scoped>\n",
       "    .dataframe tbody tr th:only-of-type {\n",
       "        vertical-align: middle;\n",
       "    }\n",
       "\n",
       "    .dataframe tbody tr th {\n",
       "        vertical-align: top;\n",
       "    }\n",
       "\n",
       "    .dataframe thead th {\n",
       "        text-align: right;\n",
       "    }\n",
       "</style>\n",
       "<table border=\"1\" class=\"dataframe\">\n",
       "  <thead>\n",
       "    <tr style=\"text-align: right;\">\n",
       "      <th></th>\n",
       "      <th>mpg</th>\n",
       "      <th>cylinders</th>\n",
       "      <th>displacement</th>\n",
       "      <th>weight</th>\n",
       "      <th>acceleration</th>\n",
       "      <th>model year</th>\n",
       "      <th>origin</th>\n",
       "    </tr>\n",
       "  </thead>\n",
       "  <tbody>\n",
       "    <tr>\n",
       "      <th>count</th>\n",
       "      <td>398.000000</td>\n",
       "      <td>398.000000</td>\n",
       "      <td>398.000000</td>\n",
       "      <td>398.000000</td>\n",
       "      <td>398.000000</td>\n",
       "      <td>398.000000</td>\n",
       "      <td>398.000000</td>\n",
       "    </tr>\n",
       "    <tr>\n",
       "      <th>mean</th>\n",
       "      <td>23.514573</td>\n",
       "      <td>5.454774</td>\n",
       "      <td>193.425879</td>\n",
       "      <td>2970.424623</td>\n",
       "      <td>15.568090</td>\n",
       "      <td>76.010050</td>\n",
       "      <td>1.572864</td>\n",
       "    </tr>\n",
       "    <tr>\n",
       "      <th>std</th>\n",
       "      <td>7.815984</td>\n",
       "      <td>1.701004</td>\n",
       "      <td>104.269838</td>\n",
       "      <td>846.841774</td>\n",
       "      <td>2.757689</td>\n",
       "      <td>3.697627</td>\n",
       "      <td>0.802055</td>\n",
       "    </tr>\n",
       "    <tr>\n",
       "      <th>min</th>\n",
       "      <td>9.000000</td>\n",
       "      <td>3.000000</td>\n",
       "      <td>68.000000</td>\n",
       "      <td>1613.000000</td>\n",
       "      <td>8.000000</td>\n",
       "      <td>70.000000</td>\n",
       "      <td>1.000000</td>\n",
       "    </tr>\n",
       "    <tr>\n",
       "      <th>25%</th>\n",
       "      <td>17.500000</td>\n",
       "      <td>4.000000</td>\n",
       "      <td>104.250000</td>\n",
       "      <td>2223.750000</td>\n",
       "      <td>13.825000</td>\n",
       "      <td>73.000000</td>\n",
       "      <td>1.000000</td>\n",
       "    </tr>\n",
       "    <tr>\n",
       "      <th>50%</th>\n",
       "      <td>23.000000</td>\n",
       "      <td>4.000000</td>\n",
       "      <td>148.500000</td>\n",
       "      <td>2803.500000</td>\n",
       "      <td>15.500000</td>\n",
       "      <td>76.000000</td>\n",
       "      <td>1.000000</td>\n",
       "    </tr>\n",
       "    <tr>\n",
       "      <th>75%</th>\n",
       "      <td>29.000000</td>\n",
       "      <td>8.000000</td>\n",
       "      <td>262.000000</td>\n",
       "      <td>3608.000000</td>\n",
       "      <td>17.175000</td>\n",
       "      <td>79.000000</td>\n",
       "      <td>2.000000</td>\n",
       "    </tr>\n",
       "    <tr>\n",
       "      <th>max</th>\n",
       "      <td>46.600000</td>\n",
       "      <td>8.000000</td>\n",
       "      <td>455.000000</td>\n",
       "      <td>5140.000000</td>\n",
       "      <td>24.800000</td>\n",
       "      <td>82.000000</td>\n",
       "      <td>3.000000</td>\n",
       "    </tr>\n",
       "  </tbody>\n",
       "</table>\n",
       "</div>"
      ],
      "text/plain": [
       "              mpg   cylinders  displacement       weight  acceleration  \\\n",
       "count  398.000000  398.000000    398.000000   398.000000    398.000000   \n",
       "mean    23.514573    5.454774    193.425879  2970.424623     15.568090   \n",
       "std      7.815984    1.701004    104.269838   846.841774      2.757689   \n",
       "min      9.000000    3.000000     68.000000  1613.000000      8.000000   \n",
       "25%     17.500000    4.000000    104.250000  2223.750000     13.825000   \n",
       "50%     23.000000    4.000000    148.500000  2803.500000     15.500000   \n",
       "75%     29.000000    8.000000    262.000000  3608.000000     17.175000   \n",
       "max     46.600000    8.000000    455.000000  5140.000000     24.800000   \n",
       "\n",
       "       model year      origin  \n",
       "count  398.000000  398.000000  \n",
       "mean    76.010050    1.572864  \n",
       "std      3.697627    0.802055  \n",
       "min     70.000000    1.000000  \n",
       "25%     73.000000    1.000000  \n",
       "50%     76.000000    1.000000  \n",
       "75%     79.000000    2.000000  \n",
       "max     82.000000    3.000000  "
      ]
     },
     "execution_count": 5,
     "metadata": {},
     "output_type": "execute_result"
    }
   ],
   "source": [
    "df.describe()"
   ]
  },
  {
   "cell_type": "markdown",
   "id": "3361b6e0",
   "metadata": {},
   "source": [
    "# Exploratory Data Analysis"
   ]
  },
  {
   "cell_type": "code",
   "execution_count": 6,
   "id": "dff05484",
   "metadata": {},
   "outputs": [
    {
     "data": {
      "text/plain": [
       "array(['130', '165', '150', '140', '198', '220', '215', '225', '190',\n",
       "       '170', '160', '95', '97', '85', '88', '46', '87', '90', '113',\n",
       "       '200', '210', '193', '?', '100', '105', '175', '153', '180', '110',\n",
       "       '72', '86', '70', '76', '65', '69', '60', '80', '54', '208', '155',\n",
       "       '112', '92', '145', '137', '158', '167', '94', '107', '230', '49',\n",
       "       '75', '91', '122', '67', '83', '78', '52', '61', '93', '148',\n",
       "       '129', '96', '71', '98', '115', '53', '81', '79', '120', '152',\n",
       "       '102', '108', '68', '58', '149', '89', '63', '48', '66', '139',\n",
       "       '103', '125', '133', '138', '135', '142', '77', '62', '132', '84',\n",
       "       '64', '74', '116', '82'], dtype=object)"
      ]
     },
     "execution_count": 6,
     "metadata": {},
     "output_type": "execute_result"
    }
   ],
   "source": [
    "df['horsepower'].unique()"
   ]
  },
  {
   "cell_type": "code",
   "execution_count": 7,
   "id": "0b4dc230",
   "metadata": {},
   "outputs": [
    {
     "name": "stdout",
     "output_type": "stream",
     "text": [
      "(398, 9)\n",
      "(392, 9)\n"
     ]
    }
   ],
   "source": [
    "print(df.shape)\n",
    "df = df[df['horsepower'] != '?']\n",
    "print(df.shape)"
   ]
  },
  {
   "cell_type": "code",
   "execution_count": 8,
   "id": "30a027b7",
   "metadata": {},
   "outputs": [
    {
     "data": {
      "text/plain": [
       "mpg             0\n",
       "cylinders       0\n",
       "displacement    0\n",
       "horsepower      0\n",
       "weight          0\n",
       "acceleration    0\n",
       "model year      0\n",
       "origin          0\n",
       "car name        0\n",
       "dtype: int64"
      ]
     },
     "execution_count": 8,
     "metadata": {},
     "output_type": "execute_result"
    }
   ],
   "source": [
    "df['horsepower'] = df['horsepower'].astype(int)\n",
    "df.isnull().sum()"
   ]
  },
  {
   "cell_type": "code",
   "execution_count": 9,
   "id": "1e0be797",
   "metadata": {
    "scrolled": true
   },
   "outputs": [
    {
     "data": {
      "text/plain": [
       "mpg             127\n",
       "cylinders         5\n",
       "displacement     81\n",
       "horsepower       93\n",
       "weight          346\n",
       "acceleration     95\n",
       "model year       13\n",
       "origin            3\n",
       "car name        301\n",
       "dtype: int64"
      ]
     },
     "execution_count": 9,
     "metadata": {},
     "output_type": "execute_result"
    }
   ],
   "source": [
    "df.nunique()"
   ]
  },
  {
   "cell_type": "code",
   "execution_count": 15,
   "id": "33df066f",
   "metadata": {
    "scrolled": false
   },
   "outputs": [
    {
     "data": {
      "image/png": "[encoded data removed]",
      "text/plain": [
       "<Figure size 1500x500 with 2 Axes>"
      ]
     },
     "metadata": {},
     "output_type": "display_data"
    }
   ],
   "source": [
    "plt.subplots(figsize = (15, 5))\n",
    "for i, col in enumerate(['cylinders', 'origin']):\n",
    "    plt.subplot(1, 2, i+1)\n",
    "    x = df.groupby(col).mean()['mpg']\n",
    "    x.plot.bar()\n",
    "    plt.xticks(rotation = 0)\n",
    "\n",
    "plt.tight_layout()\n",
    "plt.show()"
   ]
  },
  {
   "cell_type": "code",
   "execution_count": 30,
   "id": "bb835809",
   "metadata": {
    "scrolled": false
   },
   "outputs": [
    {
     "data": {
      "image/png": "[encoded data removed]",
      "text/plain": [
       "<Figure size 800x800 with 1 Axes>"
      ]
     },
     "metadata": {},
     "output_type": "display_data"
    }
   ],
   "source": [
    "plt.figure(figsize = (8, 8))\n",
    "sb.heatmap(df.corr() > 0.9, annot = True, cbar = False)\n",
    "plt.show()"
   ]
  },
  {
   "cell_type": "code",
   "execution_count": 32,
   "id": "7634cf95",
   "metadata": {},
   "outputs": [],
   "source": [
    "df.drop('displacement', axis=1, inplace=True) "
   ]
  },
  {
   "cell_type": "markdown",
   "id": "43a81d06",
   "metadata": {},
   "source": [
    "# Model Architecture"
   ]
  },
  {
   "cell_type": "code",
   "execution_count": 33,
   "id": "fe5e6dce",
   "metadata": {},
   "outputs": [
    {
     "data": {
      "text/plain": [
       "((313, 6), (79, 6))"
      ]
     },
     "execution_count": 33,
     "metadata": {},
     "output_type": "execute_result"
    }
   ],
   "source": [
    "from sklearn.model_selection import train_test_split\n",
    "features = df.drop(['mpg', 'car name'], axis = 1)\n",
    "target = df['mpg'].values\n",
    "\n",
    "X_train, X_val, Y_train, Y_val = train_test_split(features, target, test_size = 0.2, random_state = 22)\n",
    "X_train.shape, X_val.shape"
   ]
  },
  {
   "cell_type": "code",
   "execution_count": 34,
   "id": "413a43be",
   "metadata": {},
   "outputs": [],
   "source": [
    "AUTO = tf.data.experimental.AUTOTUNE\n",
    "\n",
    "train_ds = ( \n",
    "    tf.data.Dataset \n",
    "    .from_tensor_slices((X_train, Y_train)) \n",
    "    .batch(32) \n",
    "    .prefetch(AUTO) \n",
    ") \n",
    "\n",
    "val_ds = ( \n",
    "    tf.data.Dataset \n",
    "    .from_tensor_slices((X_val, Y_val)) \n",
    "    .batch(32) \n",
    "    .prefetch(AUTO) \n",
    ") "
   ]
  },
  {
   "cell_type": "code",
   "execution_count": 35,
   "id": "af7764be",
   "metadata": {},
   "outputs": [],
   "source": [
    "model = keras.Sequential([\n",
    "    layers.Dense(256, activation = 'relu', input_shape = [6]),\n",
    "    layers.BatchNormalization(),\n",
    "    layers.Dense(256, activation = 'relu'),\n",
    "    layers.Dropout(0.3),\n",
    "    layers.BatchNormalization(),\n",
    "    layers.Dense(1, activation = 'relu')\n",
    "])"
   ]
  },
  {
   "cell_type": "code",
   "execution_count": 36,
   "id": "c2f53565",
   "metadata": {},
   "outputs": [],
   "source": [
    "model.compile(\n",
    "    loss = 'mae',\n",
    "    optimizer = 'adam',\n",
    "    metrics = ['mape']\n",
    ")"
   ]
  },
  {
   "cell_type": "code",
   "execution_count": 37,
   "id": "f0983918",
   "metadata": {},
   "outputs": [
    {
     "name": "stdout",
     "output_type": "stream",
     "text": [
      "Model: \"sequential_1\"\n",
      "_________________________________________________________________\n",
      " Layer (type)                Output Shape              Param #   \n",
      "=================================================================\n",
      " dense_3 (Dense)             (None, 256)               1792      \n",
      "                                                                 \n",
      " batch_normalization_2 (Bat  (None, 256)               1024      \n",
      " chNormalization)                                                \n",
      "                                                                 \n",
      " dense_4 (Dense)             (None, 256)               65792     \n",
      "                                                                 \n",
      " dropout_1 (Dropout)         (None, 256)               0         \n",
      "                                                                 \n",
      " batch_normalization_3 (Bat  (None, 256)               1024      \n",
      " chNormalization)                                                \n",
      "                                                                 \n",
      " dense_5 (Dense)             (None, 1)                 257       \n",
      "                                                                 \n",
      "=================================================================\n",
      "Total params: 69889 (273.00 KB)\n",
      "Trainable params: 68865 (269.00 KB)\n",
      "Non-trainable params: 1024 (4.00 KB)\n",
      "_________________________________________________________________\n"
     ]
    }
   ],
   "source": [
    "model.summary()"
   ]
  },
  {
   "cell_type": "markdown",
   "id": "1429fb74",
   "metadata": {},
   "source": [
    "# Model Training"
   ]
  },
  {
   "cell_type": "code",
   "execution_count": 38,
   "id": "a22622fa",
   "metadata": {},
   "outputs": [
    {
     "name": "stdout",
     "output_type": "stream",
     "text": [
      "Epoch 1/50\n",
      "WARNING:tensorflow:From C:\\Users\\KIIT\\AppData\\Roaming\\Python\\Python310\\site-packages\\keras\\src\\utils\\tf_utils.py:492: The name tf.ragged.RaggedTensorValue is deprecated. Please use tf.compat.v1.ragged.RaggedTensorValue instead.\n",
      "\n",
      "WARNING:tensorflow:From C:\\Users\\KIIT\\AppData\\Roaming\\Python\\Python310\\site-packages\\keras\\src\\engine\\base_layer_utils.py:384: The name tf.executing_eagerly_outside_functions is deprecated. Please use tf.compat.v1.executing_eagerly_outside_functions instead.\n",
      "\n",
      "10/10 [==============================] - 2s 25ms/step - loss: 21.2931 - mape: 84.5730 - val_loss: 33.5749 - val_mape: 205.3654\n",
      "Epoch 2/50\n",
      "10/10 [==============================] - 0s 7ms/step - loss: 19.9398 - mape: 76.8658 - val_loss: 19.1752 - val_mape: 114.9821\n",
      "Epoch 3/50\n",
      "10/10 [==============================] - 0s 7ms/step - loss: 19.1802 - mape: 73.2410 - val_loss: 14.3486 - val_mape: 78.8161\n",
      "Epoch 4/50\n",
      "10/10 [==============================] - 0s 6ms/step - loss: 18.6219 - mape: 70.6698 - val_loss: 11.6829 - val_mape: 56.2766\n",
      "Epoch 5/50\n",
      "10/10 [==============================] - 0s 7ms/step - loss: 18.1941 - mape: 68.6662 - val_loss: 11.8650 - val_mape: 59.1259\n",
      "Epoch 6/50\n",
      "10/10 [==============================] - 0s 6ms/step - loss: 17.7198 - mape: 66.3711 - val_loss: 11.5998 - val_mape: 58.4043\n",
      "Epoch 7/50\n",
      "10/10 [==============================] - 0s 6ms/step - loss: 17.2104 - mape: 63.8588 - val_loss: 10.5373 - val_mape: 50.7495\n",
      "Epoch 8/50\n",
      "10/10 [==============================] - 0s 7ms/step - loss: 16.7115 - mape: 61.8021 - val_loss: 10.3069 - val_mape: 49.4338\n",
      "Epoch 9/50\n",
      "10/10 [==============================] - 0s 7ms/step - loss: 16.0523 - mape: 58.8726 - val_loss: 9.5952 - val_mape: 46.9856\n",
      "Epoch 10/50\n",
      "10/10 [==============================] - 0s 9ms/step - loss: 15.4929 - mape: 56.6079 - val_loss: 9.3971 - val_mape: 46.0820\n",
      "Epoch 11/50\n",
      "10/10 [==============================] - 0s 6ms/step - loss: 14.9649 - mape: 54.6722 - val_loss: 8.9649 - val_mape: 44.8428\n",
      "Epoch 12/50\n",
      "10/10 [==============================] - 0s 7ms/step - loss: 14.5052 - mape: 52.7713 - val_loss: 8.3777 - val_mape: 42.7868\n",
      "Epoch 13/50\n",
      "10/10 [==============================] - 0s 7ms/step - loss: 13.6313 - mape: 49.7677 - val_loss: 8.0002 - val_mape: 41.2768\n",
      "Epoch 14/50\n",
      "10/10 [==============================] - 0s 7ms/step - loss: 12.7889 - mape: 46.9671 - val_loss: 7.6754 - val_mape: 38.4959\n",
      "Epoch 15/50\n",
      "10/10 [==============================] - 0s 6ms/step - loss: 12.1007 - mape: 45.4924 - val_loss: 7.2133 - val_mape: 36.0436\n",
      "Epoch 16/50\n",
      "10/10 [==============================] - 0s 6ms/step - loss: 11.0858 - mape: 43.7600 - val_loss: 9.0918 - val_mape: 51.5220\n",
      "Epoch 17/50\n",
      "10/10 [==============================] - 0s 10ms/step - loss: 10.4078 - mape: 44.9054 - val_loss: 22.2143 - val_mape: 99.4803\n",
      "Epoch 18/50\n",
      "10/10 [==============================] - 0s 8ms/step - loss: 8.0356 - mape: 41.6019 - val_loss: 22.4190 - val_mape: 100.0000\n",
      "Epoch 19/50\n",
      "10/10 [==============================] - 0s 7ms/step - loss: 6.6961 - mape: 36.0378 - val_loss: 20.7632 - val_mape: 95.2146\n",
      "Epoch 20/50\n",
      "10/10 [==============================] - 0s 7ms/step - loss: 6.3466 - mape: 33.9616 - val_loss: 18.4983 - val_mape: 88.3605\n",
      "Epoch 21/50\n",
      "10/10 [==============================] - 0s 7ms/step - loss: 6.3816 - mape: 34.3930 - val_loss: 18.3350 - val_mape: 87.9573\n",
      "Epoch 22/50\n",
      "10/10 [==============================] - 0s 7ms/step - loss: 5.8749 - mape: 31.4479 - val_loss: 14.4500 - val_mape: 74.6642\n",
      "Epoch 23/50\n",
      "10/10 [==============================] - 0s 7ms/step - loss: 5.5992 - mape: 29.9086 - val_loss: 12.3449 - val_mape: 66.4702\n",
      "Epoch 24/50\n",
      "10/10 [==============================] - 0s 7ms/step - loss: 5.4626 - mape: 29.0528 - val_loss: 8.5872 - val_mape: 48.9850\n",
      "Epoch 25/50\n",
      "10/10 [==============================] - 0s 7ms/step - loss: 5.0544 - mape: 26.8856 - val_loss: 6.2303 - val_mape: 35.8503\n",
      "Epoch 26/50\n",
      "10/10 [==============================] - 0s 7ms/step - loss: 5.1143 - mape: 27.1447 - val_loss: 6.8739 - val_mape: 38.5787\n",
      "Epoch 27/50\n",
      "10/10 [==============================] - 0s 7ms/step - loss: 4.6496 - mape: 24.9824 - val_loss: 8.9046 - val_mape: 49.0644\n",
      "Epoch 28/50\n",
      "10/10 [==============================] - 0s 10ms/step - loss: 4.9612 - mape: 25.9192 - val_loss: 6.5725 - val_mape: 37.5479\n",
      "Epoch 29/50\n",
      "10/10 [==============================] - 0s 7ms/step - loss: 4.8164 - mape: 25.1182 - val_loss: 7.6301 - val_mape: 42.9738\n",
      "Epoch 30/50\n",
      "10/10 [==============================] - 0s 7ms/step - loss: 4.3899 - mape: 23.1026 - val_loss: 5.1853 - val_mape: 28.5166\n",
      "Epoch 31/50\n",
      "10/10 [==============================] - 0s 7ms/step - loss: 4.5409 - mape: 23.6274 - val_loss: 6.0624 - val_mape: 34.4412\n",
      "Epoch 32/50\n",
      "10/10 [==============================] - 0s 7ms/step - loss: 4.2094 - mape: 22.0779 - val_loss: 5.0291 - val_mape: 28.9750\n",
      "Epoch 33/50\n",
      "10/10 [==============================] - 0s 7ms/step - loss: 4.3687 - mape: 22.5264 - val_loss: 4.8945 - val_mape: 28.3902\n",
      "Epoch 34/50\n",
      "10/10 [==============================] - 0s 7ms/step - loss: 4.2687 - mape: 22.1475 - val_loss: 5.2320 - val_mape: 28.0876\n",
      "Epoch 35/50\n",
      "10/10 [==============================] - 0s 7ms/step - loss: 4.2461 - mape: 21.3653 - val_loss: 4.2682 - val_mape: 23.1080\n",
      "Epoch 36/50\n",
      "10/10 [==============================] - 0s 6ms/step - loss: 3.9625 - mape: 20.3619 - val_loss: 5.7474 - val_mape: 30.7025\n",
      "Epoch 37/50\n",
      "10/10 [==============================] - 0s 7ms/step - loss: 4.2186 - mape: 21.1273 - val_loss: 4.2951 - val_mape: 23.9563\n",
      "Epoch 38/50\n",
      "10/10 [==============================] - 0s 7ms/step - loss: 4.1023 - mape: 21.0178 - val_loss: 5.7913 - val_mape: 30.7937\n",
      "Epoch 39/50\n",
      "10/10 [==============================] - 0s 6ms/step - loss: 3.7890 - mape: 18.2367 - val_loss: 10.6326 - val_mape: 57.5951\n",
      "Epoch 40/50\n",
      "10/10 [==============================] - 0s 7ms/step - loss: 3.8054 - mape: 18.6119 - val_loss: 6.1523 - val_mape: 33.1101\n",
      "Epoch 41/50\n",
      "10/10 [==============================] - 0s 7ms/step - loss: 3.6831 - mape: 18.5506 - val_loss: 8.3662 - val_mape: 46.2941\n",
      "Epoch 42/50\n",
      "10/10 [==============================] - 0s 6ms/step - loss: 3.3884 - mape: 15.4797 - val_loss: 9.3181 - val_mape: 50.0620\n",
      "Epoch 43/50\n",
      "10/10 [==============================] - 0s 6ms/step - loss: 3.1680 - mape: 13.5391 - val_loss: 12.0690 - val_mape: 64.0453\n",
      "Epoch 44/50\n",
      "10/10 [==============================] - 0s 7ms/step - loss: 2.9755 - mape: 13.1439 - val_loss: 14.3661 - val_mape: 75.3110\n",
      "Epoch 45/50\n",
      "10/10 [==============================] - 0s 7ms/step - loss: 3.0080 - mape: 13.4226 - val_loss: 11.1708 - val_mape: 58.8940\n",
      "Epoch 46/50\n",
      "10/10 [==============================] - 0s 7ms/step - loss: 2.7760 - mape: 12.2281 - val_loss: 14.7720 - val_mape: 78.4083\n",
      "Epoch 47/50\n",
      "10/10 [==============================] - 0s 7ms/step - loss: 2.9502 - mape: 13.1117 - val_loss: 9.6512 - val_mape: 49.3482\n",
      "Epoch 48/50\n",
      "10/10 [==============================] - 0s 7ms/step - loss: 2.8821 - mape: 12.5483 - val_loss: 13.0827 - val_mape: 67.8988\n",
      "Epoch 49/50\n",
      "10/10 [==============================] - 0s 7ms/step - loss: 2.9420 - mape: 12.8511 - val_loss: 8.0655 - val_mape: 42.5254\n",
      "Epoch 50/50\n",
      "10/10 [==============================] - 0s 7ms/step - loss: 2.9135 - mape: 12.9439 - val_loss: 11.8079 - val_mape: 62.0355\n"
     ]
    }
   ],
   "source": [
    "history = model.fit(train_ds, epochs=50, validation_data=val_ds) "
   ]
  },
  {
   "cell_type": "code",
   "execution_count": 39,
   "id": "43d8376e",
   "metadata": {},
   "outputs": [
    {
     "data": {
      "text/html": [
       "<div>\n",
       "<style scoped>\n",
       "    .dataframe tbody tr th:only-of-type {\n",
       "        vertical-align: middle;\n",
       "    }\n",
       "\n",
       "    .dataframe tbody tr th {\n",
       "        vertical-align: top;\n",
       "    }\n",
       "\n",
       "    .dataframe thead th {\n",
       "        text-align: right;\n",
       "    }\n",
       "</style>\n",
       "<table border=\"1\" class=\"dataframe\">\n",
       "  <thead>\n",
       "    <tr style=\"text-align: right;\">\n",
       "      <th></th>\n",
       "      <th>loss</th>\n",
       "      <th>mape</th>\n",
       "      <th>val_loss</th>\n",
       "      <th>val_mape</th>\n",
       "    </tr>\n",
       "  </thead>\n",
       "  <tbody>\n",
       "    <tr>\n",
       "      <th>0</th>\n",
       "      <td>21.293139</td>\n",
       "      <td>84.572952</td>\n",
       "      <td>33.574856</td>\n",
       "      <td>205.365387</td>\n",
       "    </tr>\n",
       "    <tr>\n",
       "      <th>1</th>\n",
       "      <td>19.939785</td>\n",
       "      <td>76.865784</td>\n",
       "      <td>19.175222</td>\n",
       "      <td>114.982101</td>\n",
       "    </tr>\n",
       "    <tr>\n",
       "      <th>2</th>\n",
       "      <td>19.180159</td>\n",
       "      <td>73.240967</td>\n",
       "      <td>14.348642</td>\n",
       "      <td>78.816124</td>\n",
       "    </tr>\n",
       "    <tr>\n",
       "      <th>3</th>\n",
       "      <td>18.621851</td>\n",
       "      <td>70.669792</td>\n",
       "      <td>11.682907</td>\n",
       "      <td>56.276566</td>\n",
       "    </tr>\n",
       "    <tr>\n",
       "      <th>4</th>\n",
       "      <td>18.194082</td>\n",
       "      <td>68.666161</td>\n",
       "      <td>11.864964</td>\n",
       "      <td>59.125858</td>\n",
       "    </tr>\n",
       "  </tbody>\n",
       "</table>\n",
       "</div>"
      ],
      "text/plain": [
       "        loss       mape   val_loss    val_mape\n",
       "0  21.293139  84.572952  33.574856  205.365387\n",
       "1  19.939785  76.865784  19.175222  114.982101\n",
       "2  19.180159  73.240967  14.348642   78.816124\n",
       "3  18.621851  70.669792  11.682907   56.276566\n",
       "4  18.194082  68.666161  11.864964   59.125858"
      ]
     },
     "execution_count": 39,
     "metadata": {},
     "output_type": "execute_result"
    }
   ],
   "source": [
    "history_df = pd.DataFrame(history.history)\n",
    "history_df.head()"
   ]
  },
  {
   "cell_type": "code",
   "execution_count": 40,
   "id": "c218f561",
   "metadata": {},
   "outputs": [
    {
     "data": {
      "image/png": "[encoded data removed]",
      "text/plain": [
       "<Figure size 640x480 with 1 Axes>"
      ]
     },
     "metadata": {},
     "output_type": "display_data"
    },
    {
     "data": {
      "image/png": "[encoded data removed]",
      "text/plain": [
       "<Figure size 640x480 with 1 Axes>"
      ]
     },
     "metadata": {},
     "output_type": "display_data"
    }
   ],
   "source": [
    "history_df.loc[:, ['loss', 'val_loss']].plot()\n",
    "history_df.loc[:, ['mape', 'val_mape']].plot()\n",
    "plt.show()"
   ]
  }
 ],
 "metadata": {
  "kernelspec": {
   "display_name": "Python 3 (ipykernel)",
   "language": "python",
   "name": "python3"
  },
  "language_info": {
   "codemirror_mode": {
    "name": "ipython",
    "version": 3
   },
   "file_extension": ".py",
   "mimetype": "text/x-python",
   "name": "python",
   "nbconvert_exporter": "python",
   "pygments_lexer": "ipython3",
   "version": "3.10.9"
  }
 },
 "nbformat": 4,
 "nbformat_minor": 5
}
